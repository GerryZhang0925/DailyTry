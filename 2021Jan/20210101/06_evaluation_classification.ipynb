{
 "cells": [
  {
   "cell_type": "markdown",
   "metadata": {},
   "source": [
    "## 0. 混同行列"
   ]
  },
  {
   "cell_type": "markdown",
   "metadata": {},
   "source": [
    "　モデル予測結果には、「悪性」と「良性」、正解データには「悪性」と「良性」と、それぞれ２パターンがあるので、予測結果と正解データの組み合わせは、全部で４パターンある。４パターンそれぞれの件数を集計し、表の形で整理すると、単に精度（正解率）だけを考えるより意味のある検証ができる。\n",
    "　「悪性」を「陽性」Positive、つまりモデルで見つけたいことと考えて、置き換えると、混同行列の一般化ができる。予想結果が陽性で正解データも陽性の場合にはTP, 予想結果が陽性で正解データが陰性の場合にはFPと置き換えることによって、一般化した混同行列が得られる。"
   ]
  },
  {
   "cell_type": "markdown",
   "metadata": {},
   "source": [
    "## １. 設定"
   ]
  },
  {
   "cell_type": "code",
   "execution_count": null,
   "metadata": {},
   "outputs": [],
   "source": [
    "# Do not show warnings\n",
    "import warnings\n",
    "warnings.filterwarnings('ignore')\n",
    "\n",
    "# import library\n",
    "import pandas as pd\n",
    "import numpy as np\n",
    "import matplotlib.pyplot as plt\n",
    "\n",
    "# matplotlib for japanese support\n",
    "import japanize_matplotlib\n",
    "\n",
    "# functions for data frame display\n",
    "from IPython.display import display\n",
    "\n",
    "# Adjust display options\n",
    "np.set_printoptions(suppress=True, precision=4)\n",
    "pd.options.display.float_format = '{:.4f}'.format\n",
    "pd.set_option(\"display.max_columns\", None)\n",
    "plt.rcParams[\"font.size\"]=14\n",
    "random_seed = 123"
   ]
  },
  {
   "cell_type": "markdown",
   "metadata": {},
   "source": [
    "## 2. データの読み込み"
   ]
  },
  {
   "cell_type": "code",
   "execution_count": 4,
   "metadata": {},
   "outputs": [],
   "source": [
    "from sklearn.datasets import load_breast_cancer\n",
    "\n",
    "cancer = load_breast_cancer()\n",
    "x = cancer.data\n",
    "y = 1 - cancer.target\n",
    "x2 = x[:,:2]\n",
    "\n",
    "from sklearn.model_selection import train_test_split\n",
    "x_train, x_test, y_train, y_test = train_test_split(x2, y, train_size=0.7, test_size=0.3, random_state=random_seed)"
   ]
  },
  {
   "cell_type": "markdown",
   "metadata": {},
   "source": [
    "## 3. アルゴリズム選択と評価"
   ]
  },
  {
   "cell_type": "code",
   "execution_count": 5,
   "metadata": {},
   "outputs": [
    {
     "name": "stdout",
     "output_type": "stream",
     "text": [
      "score: 0.8772\n"
     ]
    }
   ],
   "source": [
    "from sklearn.linear_model import LogisticRegression\n",
    "algorithm = LogisticRegression(random_state=random_seed)\n",
    "\n",
    "algorithm.fit(x_train, y_train)\n",
    "y_pred = algorithm.predict(x_test)\n",
    "score = algorithm.score(x_test, y_test)\n",
    "print(f'score: {score:.4f}')"
   ]
  },
  {
   "cell_type": "markdown",
   "metadata": {},
   "source": [
    "## 4. 混同行列の計算"
   ]
  },
  {
   "cell_type": "code",
   "execution_count": 6,
   "metadata": {
    "scrolled": true
   },
   "outputs": [
    {
     "name": "stdout",
     "output_type": "stream",
     "text": [
      "[[101   2]\n",
      " [ 19  49]]\n"
     ]
    }
   ],
   "source": [
    "from sklearn.metrics import confusion_matrix\n",
    "\n",
    "matrix = confusion_matrix(y_test, y_pred)\n",
    "print(matrix)"
   ]
  },
  {
   "cell_type": "code",
   "execution_count": 7,
   "metadata": {},
   "outputs": [
    {
     "data": {
      "text/html": [
       "<div>\n",
       "<style scoped>\n",
       "    .dataframe tbody tr th:only-of-type {\n",
       "        vertical-align: middle;\n",
       "    }\n",
       "\n",
       "    .dataframe tbody tr th {\n",
       "        vertical-align: top;\n",
       "    }\n",
       "\n",
       "    .dataframe thead tr th {\n",
       "        text-align: left;\n",
       "    }\n",
       "</style>\n",
       "<table border=\"1\" class=\"dataframe\">\n",
       "  <thead>\n",
       "    <tr>\n",
       "      <th></th>\n",
       "      <th></th>\n",
       "      <th colspan=\"2\" halign=\"left\">予測結果</th>\n",
       "    </tr>\n",
       "    <tr>\n",
       "      <th></th>\n",
       "      <th></th>\n",
       "      <th>良性</th>\n",
       "      <th>悪性</th>\n",
       "    </tr>\n",
       "  </thead>\n",
       "  <tbody>\n",
       "    <tr>\n",
       "      <th rowspan=\"2\" valign=\"top\">正解データ</th>\n",
       "      <th>良性</th>\n",
       "      <td>101</td>\n",
       "      <td>2</td>\n",
       "    </tr>\n",
       "    <tr>\n",
       "      <th>悪性</th>\n",
       "      <td>19</td>\n",
       "      <td>49</td>\n",
       "    </tr>\n",
       "  </tbody>\n",
       "</table>\n",
       "</div>"
      ],
      "text/plain": [
       "         予測結果    \n",
       "           良性  悪性\n",
       "正解データ 良性  101   2\n",
       "      悪性   19  49"
      ]
     },
     "metadata": {},
     "output_type": "display_data"
    }
   ],
   "source": [
    "def make_cm(matrix, columns):\n",
    "    n = len(columns)\n",
    "    act = ['正解データ'] * n\n",
    "    pred = ['予測結果'] * n\n",
    "\n",
    "    cm = pd.DataFrame(matrix, columns=[pred, columns], index=[act, columns])\n",
    "    return cm\n",
    "\n",
    "cm = make_cm(matrix, ['良性', '悪性'])\n",
    "display(cm)"
   ]
  },
  {
   "cell_type": "markdown",
   "metadata": {},
   "source": [
    "## 5. 精度・適合率・再現率・Ｆ値\n",
    "「正解数」/「全体件数」= 精度\n",
    "「全体件数」= TP+TN+FP+FN\n",
    "「正解数」= TP+TN\n",
    "「適合率」= TP / (TP + FP) 「陽性」と予測した場合、本当に「陽性」だった割合、陽性の予測結果がどの程度正確かが業務効率に直結するか、営業ターゲットを決める際に有用\n",
    "「再現率」= TP / (TP + FN) 「陽性」だったデータの内、どの程度をモデルで「陽性」と検知できたかを示す数値。問題のある事象をもれなく洗い出したい場合に使用する。潜在成約顧客の掘り起こし比率を示す。\n",
    "「F」= 2 *「適合率」* 「再現率」/(「適合率」+「再現率」) F値は、適合率と再現率の中間位になるように計算した値です。この値を最大にするモデルが適合率と再現率をバランスよく最適化しているとみなされる。"
   ]
  },
  {
   "cell_type": "code",
   "execution_count": 8,
   "metadata": {},
   "outputs": [
    {
     "name": "stdout",
     "output_type": "stream",
     "text": [
      "適合率: 0.9608\n",
      "再現率:  0.7206\n",
      "F値:  0.8235\n"
     ]
    }
   ],
   "source": [
    "from sklearn.metrics import precision_recall_fscore_support\n",
    "precision, recall, fscore, _= precision_recall_fscore_support(y_test, y_pred, average='binary')\n",
    "print(f'適合率: {precision:.4f}')\n",
    "print(f'再現率: {recall: .4f}')\n",
    "print(f'F値: {fscore: .4f}')"
   ]
  },
  {
   "cell_type": "markdown",
   "metadata": {},
   "source": [
    "## 6. 確率値としきい値"
   ]
  },
  {
   "cell_type": "code",
   "execution_count": 10,
   "metadata": {},
   "outputs": [
    {
     "name": "stdout",
     "output_type": "stream",
     "text": [
      "[[0.9925 0.0075]\n",
      " [0.9981 0.0019]\n",
      " [0.0719 0.9281]\n",
      " [0.8134 0.1866]\n",
      " [0.0345 0.9655]\n",
      " [0.6376 0.3624]\n",
      " [0.9694 0.0306]\n",
      " [0.9743 0.0257]\n",
      " [0.76   0.24  ]\n",
      " [0.9775 0.0225]]\n"
     ]
    }
   ],
   "source": [
    "y_proba = algorithm.predict_proba(x_test)\n",
    "print(y_proba[:10,:])"
   ]
  },
  {
   "cell_type": "code",
   "execution_count": 12,
   "metadata": {},
   "outputs": [
    {
     "name": "stdout",
     "output_type": "stream",
     "text": [
      "[0.2111 0.9188 0.1617 0.0609 0.631  0.0549 0.0601 0.0506 0.0383 0.0164]\n",
      "[0 1 1 0 1 0 0 0 0 0]\n",
      "[0 1 0 0 1 0 0 0 0 0]\n",
      "[0.2111 0.9188 0.1617 0.0609 0.631  0.0549 0.0601 0.0506 0.0383 0.0164]\n"
     ]
    }
   ],
   "source": [
    "y_probal=y_proba[:,1]\n",
    "print(y_test[10:20])\n",
    "print(y_pred[10:20])\n",
    "print(y_probal[10:20])"
   ]
  },
  {
   "cell_type": "code",
   "execution_count": 13,
   "metadata": {},
   "outputs": [
    {
     "name": "stdout",
     "output_type": "stream",
     "text": [
      "[0 1 0 0 1 0 0 0 0 0]\n",
      "[0 1 0 0 0 0 0 0 0 0]\n"
     ]
    }
   ],
   "source": [
    "def pred(algorithm, x, thres):\n",
    "    y_proba = algorithm.predict_proba(x)\n",
    "    y_probal = y_proba[:, 1]\n",
    "    y_pred = (y_probal > thres).astype(int)\n",
    "    return y_pred\n",
    "\n",
    "pred_05 = pred(algorithm, x_test, 0.5)\n",
    "pred_07 = pred(algorithm, x_test, 0.7)\n",
    "\n",
    "print(pred_05[10:20])\n",
    "print(pred_07[10:20])"
   ]
  },
  {
   "cell_type": "markdown",
   "metadata": {},
   "source": [
    "## 7. PR曲線\n",
    "　モデル内の確率値を使ってしきい値を変更させていくと、モデルの適合率と再現率は変化していく。"
   ]
  },
  {
   "cell_type": "code",
   "execution_count": 14,
   "metadata": {},
   "outputs": [
    {
     "data": {
      "text/html": [
       "<div>\n",
       "<style scoped>\n",
       "    .dataframe tbody tr th:only-of-type {\n",
       "        vertical-align: middle;\n",
       "    }\n",
       "\n",
       "    .dataframe tbody tr th {\n",
       "        vertical-align: top;\n",
       "    }\n",
       "\n",
       "    .dataframe thead th {\n",
       "        text-align: right;\n",
       "    }\n",
       "</style>\n",
       "<table border=\"1\" class=\"dataframe\">\n",
       "  <thead>\n",
       "    <tr style=\"text-align: right;\">\n",
       "      <th></th>\n",
       "      <th>しきい値</th>\n",
       "      <th>適合率</th>\n",
       "      <th>再現率</th>\n",
       "    </tr>\n",
       "  </thead>\n",
       "  <tbody>\n",
       "    <tr>\n",
       "      <th>52</th>\n",
       "      <td>0.1473</td>\n",
       "      <td>0.7901</td>\n",
       "      <td>0.9412</td>\n",
       "    </tr>\n",
       "    <tr>\n",
       "      <th>62</th>\n",
       "      <td>0.2027</td>\n",
       "      <td>0.8310</td>\n",
       "      <td>0.8676</td>\n",
       "    </tr>\n",
       "    <tr>\n",
       "      <th>72</th>\n",
       "      <td>0.3371</td>\n",
       "      <td>0.9344</td>\n",
       "      <td>0.8382</td>\n",
       "    </tr>\n",
       "    <tr>\n",
       "      <th>82</th>\n",
       "      <td>0.5347</td>\n",
       "      <td>0.9608</td>\n",
       "      <td>0.7206</td>\n",
       "    </tr>\n",
       "    <tr>\n",
       "      <th>92</th>\n",
       "      <td>0.7763</td>\n",
       "      <td>0.9756</td>\n",
       "      <td>0.5882</td>\n",
       "    </tr>\n",
       "    <tr>\n",
       "      <th>102</th>\n",
       "      <td>0.9025</td>\n",
       "      <td>1.0000</td>\n",
       "      <td>0.4559</td>\n",
       "    </tr>\n",
       "    <tr>\n",
       "      <th>112</th>\n",
       "      <td>0.9829</td>\n",
       "      <td>1.0000</td>\n",
       "      <td>0.3088</td>\n",
       "    </tr>\n",
       "  </tbody>\n",
       "</table>\n",
       "</div>"
      ],
      "text/plain": [
       "      しきい値    適合率    再現率\n",
       "52  0.1473 0.7901 0.9412\n",
       "62  0.2027 0.8310 0.8676\n",
       "72  0.3371 0.9344 0.8382\n",
       "82  0.5347 0.9608 0.7206\n",
       "92  0.7763 0.9756 0.5882\n",
       "102 0.9025 1.0000 0.4559\n",
       "112 0.9829 1.0000 0.3088"
      ]
     },
     "metadata": {},
     "output_type": "display_data"
    }
   ],
   "source": [
    "from sklearn.metrics import precision_recall_curve\n",
    "precision, recall, thresholds = precision_recall_curve(y_test, y_probal)\n",
    "df_pr = pd.DataFrame([thresholds, precision, recall]).T\n",
    "df_pr.columns = ['しきい値', '適合率', '再現率']\n",
    "display(df_pr[52:122:10])"
   ]
  },
  {
   "cell_type": "code",
   "execution_count": 15,
   "metadata": {
    "scrolled": true
   },
   "outputs": [
    {
     "data": {
      "image/png": "[encoded data removed]",
      "text/plain": [
       "<Figure size 432x432 with 1 Axes>"
      ]
     },
     "metadata": {
      "needs_background": "light"
     },
     "output_type": "display_data"
    }
   ],
   "source": [
    "plt.figure(figsize=(6,6))\n",
    "plt.fill_between(recall, precision, 0)\n",
    "plt.xlim([0.0, 1.0])\n",
    "plt.ylim([0.0, 1.0])\n",
    "plt.xlabel('再現率')\n",
    "plt.ylabel('適合率')\n",
    "plt.title('PR曲線')\n",
    "plt.show()"
   ]
  },
  {
   "cell_type": "code",
   "execution_count": 16,
   "metadata": {},
   "outputs": [
    {
     "name": "stdout",
     "output_type": "stream",
     "text": [
      "PR曲線下面積: 0.9459\n"
     ]
    }
   ],
   "source": [
    "from sklearn.metrics import auc\n",
    "pr_auc = auc(recall, precision)\n",
    "print(f'PR曲線下面積: {pr_auc:.4f}')"
   ]
  },
  {
   "cell_type": "markdown",
   "metadata": {},
   "source": [
    "## 8. ROC曲線\n",
    "ＲＯＣ曲線は、「しきい値を変化させた時のモデルの変化をプロットする」という考え方はＰＲ曲線と同じだが、利用する指標値の計算方法が違う。「敏感度」と「偽陽性率」の２つの指標を定義する。敏感度 = TP/(TP + FN)、偽陽性度 = FP/(FP + TN)"
   ]
  },
  {
   "cell_type": "code",
   "execution_count": 17,
   "metadata": {},
   "outputs": [
    {
     "data": {
      "text/html": [
       "<div>\n",
       "<style scoped>\n",
       "    .dataframe tbody tr th:only-of-type {\n",
       "        vertical-align: middle;\n",
       "    }\n",
       "\n",
       "    .dataframe tbody tr th {\n",
       "        vertical-align: top;\n",
       "    }\n",
       "\n",
       "    .dataframe thead th {\n",
       "        text-align: right;\n",
       "    }\n",
       "</style>\n",
       "<table border=\"1\" class=\"dataframe\">\n",
       "  <thead>\n",
       "    <tr style=\"text-align: right;\">\n",
       "      <th></th>\n",
       "      <th>閾値</th>\n",
       "      <th>偽陽性率</th>\n",
       "      <th>敏感度</th>\n",
       "    </tr>\n",
       "  </thead>\n",
       "  <tbody>\n",
       "    <tr>\n",
       "      <th>21</th>\n",
       "      <td>0.9829</td>\n",
       "      <td>0.0000</td>\n",
       "      <td>0.3088</td>\n",
       "    </tr>\n",
       "    <tr>\n",
       "      <th>31</th>\n",
       "      <td>0.9025</td>\n",
       "      <td>0.0000</td>\n",
       "      <td>0.4559</td>\n",
       "    </tr>\n",
       "    <tr>\n",
       "      <th>41</th>\n",
       "      <td>0.7763</td>\n",
       "      <td>0.0097</td>\n",
       "      <td>0.5882</td>\n",
       "    </tr>\n",
       "    <tr>\n",
       "      <th>51</th>\n",
       "      <td>0.5347</td>\n",
       "      <td>0.0194</td>\n",
       "      <td>0.7206</td>\n",
       "    </tr>\n",
       "    <tr>\n",
       "      <th>61</th>\n",
       "      <td>0.3371</td>\n",
       "      <td>0.0388</td>\n",
       "      <td>0.8382</td>\n",
       "    </tr>\n",
       "    <tr>\n",
       "      <th>71</th>\n",
       "      <td>0.2027</td>\n",
       "      <td>0.1165</td>\n",
       "      <td>0.8676</td>\n",
       "    </tr>\n",
       "    <tr>\n",
       "      <th>81</th>\n",
       "      <td>0.1473</td>\n",
       "      <td>0.1650</td>\n",
       "      <td>0.9412</td>\n",
       "    </tr>\n",
       "  </tbody>\n",
       "</table>\n",
       "</div>"
      ],
      "text/plain": [
       "       閾値   偽陽性率    敏感度\n",
       "21 0.9829 0.0000 0.3088\n",
       "31 0.9025 0.0000 0.4559\n",
       "41 0.7763 0.0097 0.5882\n",
       "51 0.5347 0.0194 0.7206\n",
       "61 0.3371 0.0388 0.8382\n",
       "71 0.2027 0.1165 0.8676\n",
       "81 0.1473 0.1650 0.9412"
      ]
     },
     "metadata": {},
     "output_type": "display_data"
    }
   ],
   "source": [
    "from sklearn.metrics import roc_curve\n",
    "\n",
    "fpr, tpr, thresholds = roc_curve(y_test, y_probal, drop_intermediate=False)\n",
    "\n",
    "df_roc = pd.DataFrame([thresholds, fpr, tpr]).T\n",
    "df_roc.columns = ['閾値', '偽陽性率', '敏感度']\n",
    "\n",
    "display(df_roc[21:91:10])"
   ]
  },
  {
   "cell_type": "code",
   "execution_count": 18,
   "metadata": {},
   "outputs": [
    {
     "data": {
      "image/png": "[encoded data removed]",
      "text/plain": [
       "<Figure size 432x432 with 1 Axes>"
      ]
     },
     "metadata": {
      "needs_background": "light"
     },
     "output_type": "display_data"
    },
    {
     "name": "stdout",
     "output_type": "stream",
     "text": [
      "ROC曲線下面積:0.9522\n"
     ]
    }
   ],
   "source": [
    "plt.figure(figsize=(6,6))\n",
    "plt.plot([0, 1], [0, 1], 'k--')\n",
    "plt.fill_between(fpr, tpr, 0)\n",
    "plt.xlim([0.0, 1.0])\n",
    "plt.ylim([0.0, 1.0])\n",
    "\n",
    "plt.xlabel('偽陽性率')\n",
    "plt.ylabel('敏感度')\n",
    "plt.title('ROC曲線')\n",
    "plt.show()\n",
    "\n",
    "roc_auc = auc(fpr, tpr)\n",
    "print(f'ROC曲線下面積:{roc_auc:.4f}')"
   ]
  },
  {
   "cell_type": "markdown",
   "metadata": {},
   "source": [
    "## 9. 入力項目の重要度"
   ]
  },
  {
   "cell_type": "code",
   "execution_count": 22,
   "metadata": {},
   "outputs": [
    {
     "data": {
      "text/plain": [
       "RandomForestClassifier(bootstrap=True, ccp_alpha=0.0, class_weight=None,\n",
       "                       criterion='gini', max_depth=None, max_features='auto',\n",
       "                       max_leaf_nodes=None, max_samples=None,\n",
       "                       min_impurity_decrease=0.0, min_impurity_split=None,\n",
       "                       min_samples_leaf=1, min_samples_split=2,\n",
       "                       min_weight_fraction_leaf=0.0, n_estimators=100,\n",
       "                       n_jobs=None, oob_score=False, random_state=123,\n",
       "                       verbose=0, warm_start=False)"
      ]
     },
     "execution_count": 22,
     "metadata": {},
     "output_type": "execute_result"
    }
   ],
   "source": [
    "import seaborn as sns\n",
    "df_iris = sns.load_dataset(\"iris\")\n",
    "columns_i = ['萼片長', '萼片幅', '花弁長', '花弁幅', '種別']\n",
    "df_iris.columns = columns_i\n",
    "x = df_iris[['萼片長', '萼片幅', '花弁長', '花弁幅']]\n",
    "y = df_iris['種別']\n",
    "\n",
    "from sklearn.ensemble import RandomForestClassifier\n",
    "algorithm = RandomForestClassifier(random_state=random_seed)\n",
    "\n",
    "algorithm.fit(x, y)"
   ]
  },
  {
   "cell_type": "code",
   "execution_count": 24,
   "metadata": {},
   "outputs": [
    {
     "name": "stdout",
     "output_type": "stream",
     "text": [
      "花弁長   0.4611\n",
      "花弁幅   0.4257\n",
      "萼片長   0.0874\n",
      "萼片幅   0.0257\n",
      "dtype: float64\n"
     ]
    }
   ],
   "source": [
    "importances = algorithm.feature_importances_\n",
    "w = pd.Series(importances, index=x.columns)\n",
    "u = w.sort_values(ascending=False)\n",
    "print(u)"
   ]
  },
  {
   "cell_type": "code",
   "execution_count": 26,
   "metadata": {},
   "outputs": [
    {
     "data": {
      "image/png": "[encoded data removed]",
      "text/plain": [
       "<Figure size 432x288 with 1 Axes>"
      ]
     },
     "metadata": {
      "needs_background": "light"
     },
     "output_type": "display_data"
    }
   ],
   "source": [
    "plt.bar(range(len(u)), u, color='b', align='center')\n",
    "plt.xticks(range(len(u)), u.index, rotation=90)\n",
    "plt.title('入力変数の重要度')\n",
    "plt.show()"
   ]
  }
 ],
 "metadata": {
  "kernelspec": {
   "display_name": "Python 3",
   "language": "python",
   "name": "python3"
  },
  "language_info": {
   "codemirror_mode": {
    "name": "ipython",
    "version": 3
   },
   "file_extension": ".py",
   "mimetype": "text/x-python",
   "name": "python",
   "nbconvert_exporter": "python",
   "pygments_lexer": "ipython3",
   "version": "3.6.10"
  }
 },
 "nbformat": 4,
 "nbformat_minor": 4
}
